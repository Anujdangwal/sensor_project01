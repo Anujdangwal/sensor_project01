{
 "cells": [
  {
   "cell_type": "code",
   "execution_count": 3,
   "id": "3c0c2db8",
   "metadata": {},
   "outputs": [],
   "source": [
    "import os"
   ]
  },
  {
   "cell_type": "code",
   "execution_count": 13,
   "id": "27e95316",
   "metadata": {},
   "outputs": [
    {
     "data": {
      "text/plain": [
       "'artifacts\\\\raw_file_path'"
      ]
     },
     "execution_count": 13,
     "metadata": {},
     "output_type": "execute_result"
    }
   ],
   "source": [
    "artifact_folder = os.path.join(\"artifacts\",\"raw_file_path\")\n",
    "artifact_folder"
   ]
  },
  {
   "cell_type": "code",
   "execution_count": 7,
   "id": "2a8120d2",
   "metadata": {},
   "outputs": [],
   "source": [
    "raw_file_path = artifact_folder"
   ]
  },
  {
   "cell_type": "code",
   "execution_count": 8,
   "id": "114cba94",
   "metadata": {},
   "outputs": [
    {
     "data": {
      "text/plain": [
       "'artifacts'"
      ]
     },
     "execution_count": 8,
     "metadata": {},
     "output_type": "execute_result"
    }
   ],
   "source": [
    "raw_file_path"
   ]
  },
  {
   "cell_type": "code",
   "execution_count": 14,
   "id": "2b3f8bc6",
   "metadata": {},
   "outputs": [],
   "source": [
    "os.makedirs(artifact_folder)"
   ]
  }
 ],
 "metadata": {
  "kernelspec": {
   "display_name": "base",
   "language": "python",
   "name": "python3"
  },
  "language_info": {
   "codemirror_mode": {
    "name": "ipython",
    "version": 3
   },
   "file_extension": ".py",
   "mimetype": "text/x-python",
   "name": "python",
   "nbconvert_exporter": "python",
   "pygments_lexer": "ipython3",
   "version": "3.12.4"
  }
 },
 "nbformat": 4,
 "nbformat_minor": 5
}
